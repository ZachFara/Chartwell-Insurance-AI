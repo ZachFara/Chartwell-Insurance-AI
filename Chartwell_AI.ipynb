{
 "cells": [
  {
   "cell_type": "markdown",
   "metadata": {},
   "source": [
    "# GPT4 with Retrieval Augmentation (Chartwell docs)"
   ]
  },
  {
   "cell_type": "code",
   "execution_count": 1,
   "metadata": {},
   "outputs": [
    {
     "name": "stderr",
     "output_type": "stream",
     "text": [
      "/Library/Frameworks/Python.framework/Versions/3.11/lib/python3.11/site-packages/pinecone/data/index.py:1: TqdmWarning: IProgress not found. Please update jupyter and ipywidgets. See https://ipywidgets.readthedocs.io/en/stable/user_install.html\n",
      "  from tqdm.autonotebook import tqdm\n"
     ]
    },
    {
     "name": "stdout",
     "output_type": "stream",
     "text": [
      "Document 'chart.txt' successfully added to Pinecone index.\n",
      "Document 'reb.txt' successfully added to Pinecone index.\n"
     ]
    }
   ],
   "source": [
    "import os\n",
    "from pinecone import Pinecone\n",
    "import openai\n",
    "from PyPDF2 import PdfFileReader\n",
    "import io\n",
    "from IPython.display import Markdown\n",
    "import io\n",
    "from dotenv import load_dotenv\n",
    "\n",
    "# Load environment variables \n",
    "load_dotenv()\n",
    "\n",
    "pc = Pinecone(api_key=os.getenv(\"PINECONE_API_KEY\"))\n",
    "index = pc.Index(\"insurancedoc\")\n",
    "openai.api_key = os.getenv(\"OPENAI_API_KEY\")\n",
    "\n",
    "def read_text_file(file_path, encoding='utf-8'):\n",
    "    try:\n",
    "        with open(file_path, 'r', encoding=encoding) as file:\n",
    "            return file.read()\n",
    "    except UnicodeDecodeError:\n",
    "        with open(file_path, 'r', encoding='latin-1') as file:\n",
    "            return file.read()\n",
    "\n",
    "def read_pdf_file(file_path):\n",
    "    with open(file_path, 'rb') as file:\n",
    "        reader = PdfFileReader(file)\n",
    "        text = \"\"\n",
    "        for page_num in range(reader.numPages):\n",
    "            page = reader.getPage(page_num)\n",
    "            text += page.extract_text()\n",
    "        return text\n",
    "\n",
    "def get_embeddings(text):\n",
    "    response = openai.Embedding.create(\n",
    "        input=text,\n",
    "        model=\"text-embedding-ada-002\"\n",
    "    )\n",
    "    return response['data'][0]['embedding']\n",
    "\n",
    "def upload_documents_to_pinecone(file_paths):\n",
    "    for file_path in file_paths:\n",
    "        if file_path.endswith('.txt'):\n",
    "            document_text = read_text_file(file_path)\n",
    "        elif file_path.endswith('.pdf'):\n",
    "            document_text = read_pdf_file(file_path)\n",
    "        else:\n",
    "            print(f\"Unsupported file format: {file_path}\")\n",
    "            continue\n",
    "        \n",
    "        document_embedding = get_embeddings(document_text)\n",
    "        document_id = os.path.basename(file_path)\n",
    "        \n",
    "        index.upsert([\n",
    "            (document_id, document_embedding, {\"text\": document_text})\n",
    "        ])\n",
    "        print(f\"Document '{document_id}' successfully added to Pinecone index.\")\n",
    "\n",
    "file_paths = [\n",
    "    \"/Users/peter/Desktop/Chartwell-Insurance-AI/docs/chart.txt\",\n",
    "    \"/Users/peter/Desktop/Chartwell-Insurance-AI/docs/reb.txt\"\n",
    "]\n",
    "\n",
    "upload_documents_to_pinecone(file_paths)"
   ]
  },
  {
   "cell_type": "code",
   "execution_count": 10,
   "metadata": {},
   "outputs": [
    {
     "data": {
      "text/markdown": [
       "Rebecca Korach Woan is the principal and founder of Chartwell Insurance Services. She established the company to provide a customized approach to property and casualty insurance for high net worth individuals, who she believed were often inadequately served by traditional insurance intermediaries. Rebecca has a passion for art, which aligns with the interests of many of Chartwell's clients who are collectors. She enjoys exploring insurance contracts and terminology in depth. In addition to her role at Chartwell, she is involved in various organizations, including the Illinois Fair Plan and the Art Institute of Chicago. She holds a Bachelor of Arts degree from the University of Pennsylvania and an MBA in Finance from the University of Chicago Booth School. Rebecca resides in Chicago with her family."
      ],
      "text/plain": [
       "<IPython.core.display.Markdown object>"
      ]
     },
     "metadata": {},
     "output_type": "display_data"
    }
   ],
   "source": [
    "import openai\n",
    "from pinecone import Pinecone\n",
    "from IPython.display import Markdown\n",
    "from dotenv import load_dotenv\n",
    "\n",
    "# Load environment variables \n",
    "load_dotenv()\n",
    "\n",
    "pc = Pinecone(api_key=os.getenv(\"PINECONE_API_KEY\"))\n",
    "index = pc.Index(\"insurancedoc\")\n",
    "openai.api_key = os.getenv(\"OPENAI_API_KEY\")\n",
    "\n",
    "def generate_embeddings(query, model=\"text-embedding-ada-002\"):\n",
    "    res = openai.Embedding.create(input=[query], model=model)\n",
    "    return res['data'][0]['embedding']\n",
    "\n",
    "# retrieve relevant contexts from Pinecone\n",
    "def retrieve_contexts(index, vector, top_k=10):\n",
    "    res = index.query(vector=vector, top_k=top_k, include_metadata=True)\n",
    "    return [item['metadata']['text'] for item in res['matches']]\n",
    "\n",
    "# filter contexts\n",
    "def filter_contexts(contexts, keyword):\n",
    "    return [context for context in contexts if keyword in context]\n",
    "\n",
    "# query and keyword\n",
    "query = \"Who is Rebecca?\"\n",
    "keyword = \"Rebecca\"\n",
    "\n",
    "xq = generate_embeddings(query)\n",
    "\n",
    "# Retrieve and filter contexts\n",
    "contexts = retrieve_contexts(index, vector=xq, top_k=10)\n",
    "filtered_contexts = filter_contexts(contexts, keyword)\n",
    "\n",
    "# Augment the query with the filtered contexts\n",
    "augmented_query = \"\\n\\n---\\n\\n\".join(filtered_contexts) + \"\\n\\n-----\\n\\n\" + query\n",
    "\n",
    "# system primer\n",
    "primer = \"\"\"You are a Q&A bot for an insurance company - Chartwell Insurance. A highly intelligent system that answers\n",
    "user questions based on the information provided by the user above\n",
    "each question. If the information cannot be found in the information\n",
    "provided by the user, you truthfully say 'I don't know'. When providing answers, your tone is like speaking for our company.\n",
    "\"\"\"\n",
    "\n",
    "# Generate the response\n",
    "res = openai.ChatCompletion.create(\n",
    "    model=\"gpt-4o-mini\",\n",
    "    messages=[\n",
    "        {\"role\": \"system\", \"content\": primer},\n",
    "        {\"role\": \"user\", \"content\": augmented_query}\n",
    "    ]\n",
    ")\n",
    "\n",
    "display(Markdown(res['choices'][0]['message']['content']))"
   ]
  },
  {
   "cell_type": "code",
   "execution_count": 2,
   "metadata": {},
   "outputs": [
    {
     "data": {
      "text/markdown": [
       "Chartwell Insurance Services specializes in developing and maintaining comprehensive insurance strategies tailored for high net worth individuals and their families. We work with top insurance companies dedicated to this sector and offer a complete team of insurance specialists available to assist clients during emergencies both during and after business hours. Our focus is on protecting real and personal possessions while guarding against potential liability lawsuits. We aim to provide a customized approach to property and casualty insurance, ensuring that our clients receive the specialized attention they deserve."
      ],
      "text/plain": [
       "<IPython.core.display.Markdown object>"
      ]
     },
     "metadata": {},
     "output_type": "display_data"
    }
   ],
   "source": [
    "import openai\n",
    "from pinecone import Pinecone\n",
    "from IPython.display import Markdown\n",
    "\n",
    "from dotenv import load_dotenv\n",
    "\n",
    "# Load environment variables \n",
    "load_dotenv()\n",
    "\n",
    "pc = Pinecone(api_key=os.getenv(\"PINECONE_API_KEY\"))\n",
    "index = pc.Index(\"insurancedoc\")\n",
    "openai.api_key = os.getenv(\"OPENAI_API_KEY\")\n",
    "\n",
    "def generate_embeddings(query, model=\"text-embedding-ada-002\"):\n",
    "    res = openai.Embedding.create(input=[query], model=model)\n",
    "    return res['data'][0]['embedding']\n",
    "\n",
    "# retrieve relevant contexts from Pinecone\n",
    "def retrieve_contexts(index, vector, top_k=10):\n",
    "    res = index.query(vector=vector, top_k=top_k, include_metadata=True)\n",
    "    return [item['metadata']['text'] for item in res['matches']]\n",
    "\n",
    "# filter contexts\n",
    "def filter_contexts(contexts, keyword):\n",
    "    return [context for context in contexts if keyword in context]\n",
    "\n",
    "# query and keyword\n",
    "query = \"What services does Chartwell Insurance Service provide?\"\n",
    "keyword = \"Chartwell Insurance Service\"\n",
    "\n",
    "xq = generate_embeddings(query)\n",
    "\n",
    "# Retrieve and filter contexts\n",
    "contexts = retrieve_contexts(index, vector=xq, top_k=10)\n",
    "filtered_contexts = filter_contexts(contexts, keyword)\n",
    "\n",
    "# Augment the query with the filtered contexts\n",
    "augmented_query = \"\\n\\n---\\n\\n\".join(filtered_contexts) + \"\\n\\n-----\\n\\n\" + query\n",
    "\n",
    "# system primer\n",
    "primer = \"\"\"You are a Q&A bot for an insurance company - Chartwell Insurance. A highly intelligent system that answers\n",
    "user questions based on the information provided by the user above\n",
    "each question. If the information cannot be found in the information\n",
    "provided by the user, you truthfully say 'I don't know'. When providing answers, your tone is like speaking for our company.\n",
    "\"\"\"\n",
    "\n",
    "# Generate the response\n",
    "res = openai.ChatCompletion.create(\n",
    "    model=\"gpt-4o-mini\",\n",
    "    messages=[\n",
    "        {\"role\": \"system\", \"content\": primer},\n",
    "        {\"role\": \"user\", \"content\": augmented_query}\n",
    "    ]\n",
    ")\n",
    "\n",
    "display(Markdown(res['choices'][0]['message']['content']))"
   ]
  }
 ],
 "metadata": {
  "kernelspec": {
   "display_name": "base",
   "language": "python",
   "name": "python3"
  },
  "language_info": {
   "codemirror_mode": {
    "name": "ipython",
    "version": 3
   },
   "file_extension": ".py",
   "mimetype": "text/x-python",
   "name": "python",
   "nbconvert_exporter": "python",
   "pygments_lexer": "ipython3",
   "version": "3.11.0"
  }
 },
 "nbformat": 4,
 "nbformat_minor": 2
}
